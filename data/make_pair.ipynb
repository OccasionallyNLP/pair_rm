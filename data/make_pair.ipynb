{
 "cells": [
  {
   "cell_type": "code",
   "execution_count": 1,
   "id": "2bbe154b-6acd-4940-9d2b-e25dd60b9c3b",
   "metadata": {},
   "outputs": [],
   "source": [
    "import sys, os\n",
    "sys.path.append('..')\n",
    "from utils.utils import *"
   ]
  },
  {
   "cell_type": "code",
   "execution_count": 2,
   "id": "ff48f799-a316-45b0-9e59-ed06b8e4d050",
   "metadata": {},
   "outputs": [
    {
     "name": "stderr",
     "output_type": "stream",
     "text": [
      "1000it [00:00, 125012.79it/s]\n"
     ]
    }
   ],
   "source": [
    "data = load_jsonl('../../data/RM/dev.jsonl')"
   ]
  },
  {
   "cell_type": "code",
   "execution_count": 4,
   "id": "6968df7b-6196-4e2f-92a2-7ecff7d33fbe",
   "metadata": {},
   "outputs": [],
   "source": [
    "from itertools import combinations"
   ]
  },
  {
   "cell_type": "code",
   "execution_count": 5,
   "id": "71180e4e-fd04-49ea-b796-ca98d597a62c",
   "metadata": {},
   "outputs": [],
   "source": [
    "def make_pair(data, bigger_is_good=True):\n",
    "    output = []\n",
    "    for i in tqdm(data):\n",
    "        n_ranks = len(i['ranking'])\n",
    "        for combs in combinations(range(n_ranks),2):\n",
    "            a,b = combs\n",
    "            if i['ranking'][a]>i['ranking'][b]:\n",
    "                if bigger_is_good:\n",
    "                    label = 0\n",
    "                else:\n",
    "                    label = 1\n",
    "            elif i['ranking'][a]<i['ranking'][b]:\n",
    "                if bigger_is_good:\n",
    "                    label = 1\n",
    "                else:\n",
    "                    label = 0\n",
    "            else:\n",
    "                raise Exception('there are same ranks') \n",
    "            degree = abs(i['ranking'][a]-i['ranking'][b])\n",
    "            sentence_1 = i.get('prompt', '')+' '+i['completion'][a]\n",
    "            sentence_2 = i.get('prompt', '')+' '+i['completion'][b]\n",
    "            output.append(dict(sentence_1 = sentence_1, sentence_2 = sentence_2, label = label, degree=degree))\n",
    "    return output"
   ]
  },
  {
   "cell_type": "code",
   "execution_count": 6,
   "id": "03af9638-1e1a-4ae6-8b44-ef2ca8cd6aa9",
   "metadata": {},
   "outputs": [
    {
     "name": "stderr",
     "output_type": "stream",
     "text": [
      "100%|██████████████████████████████████████████████████████████████████████████| 1000/1000 [00:00<00:00, 142561.57it/s]\n"
     ]
    }
   ],
   "source": [
    "pair_data = make_pair(data)"
   ]
  },
  {
   "cell_type": "code",
   "execution_count": 27,
   "id": "9d5b3f86-4254-43a0-a3a8-9208c13ae3c9",
   "metadata": {},
   "outputs": [
    {
     "name": "stderr",
     "output_type": "stream",
     "text": [
      "100%|██████████████████████████████████████████████████████████████████████████| 3000/3000 [00:00<00:00, 114581.77it/s]\n"
     ]
    }
   ],
   "source": [
    "save_jsonl('../../data/RM/', pair_data, 'pair_dev_margin')"
   ]
  },
  {
   "cell_type": "code",
   "execution_count": 7,
   "id": "36cf0b45-3e63-4d91-bccd-2ae078f4fa9b",
   "metadata": {},
   "outputs": [
    {
     "data": {
      "text/plain": [
       "{'sentence_1': '리처드 닉슨은 인도차이나 전쟁을 끝맺고자 어느나라에서 미군을 철수하였는가? 미국이다. 리처드 닉슨은 미국 대통령으로서 미국의 전쟁 참여를 중단하고 미군을 철수하는 데 성공하였다.',\n",
       " 'sentence_2': '리처드 닉슨은 인도차이나 전쟁을 끝맺고자 어느나라에서 미군을 철수하였는가? It is difficult to say whether or not the decision to go to war in the Korean War was made by the United States alone or was part of a larger strategy?',\n",
       " 'label': 0,\n",
       " 'degree': 2}"
      ]
     },
     "execution_count": 7,
     "metadata": {},
     "output_type": "execute_result"
    }
   ],
   "source": [
    "pair_data[0]"
   ]
  }
 ],
 "metadata": {
  "kernelspec": {
   "display_name": "Python 3 (ipykernel)",
   "language": "python",
   "name": "python3"
  },
  "language_info": {
   "codemirror_mode": {
    "name": "ipython",
    "version": 3
   },
   "file_extension": ".py",
   "mimetype": "text/x-python",
   "name": "python",
   "nbconvert_exporter": "python",
   "pygments_lexer": "ipython3",
   "version": "3.9.7"
  }
 },
 "nbformat": 4,
 "nbformat_minor": 5
}
